{
 "cells": [
  {
   "cell_type": "code",
   "execution_count": 57,
   "id": "726fc734-08e5-443c-b2ef-16e70febec57",
   "metadata": {},
   "outputs": [
    {
     "name": "stderr",
     "output_type": "stream",
     "text": [
      "  0%|          | 0/10 [00:00<?, ?it/s]C:\\Users\\92476\\AppData\\Local\\Temp\\ipykernel_18724\\3304868075.py:24: FutureWarning: The behavior of 'to_datetime' with 'unit' when parsing strings is deprecated. In a future version, strings will be parsed as datetime strings, matching the behavior without a 'unit'. To retain the old behavior, explicitly cast ints or floats to numeric type before calling to_datetime.\n",
      "  df[\"timestamp\"] = pd.to_datetime(df[\"timestamp\"], unit=\"ms\")\n",
      "C:\\Users\\92476\\AppData\\Local\\Temp\\ipykernel_18724\\3304868075.py:24: FutureWarning: The behavior of 'to_datetime' with 'unit' when parsing strings is deprecated. In a future version, strings will be parsed as datetime strings, matching the behavior without a 'unit'. To retain the old behavior, explicitly cast ints or floats to numeric type before calling to_datetime.\n",
      "  df[\"timestamp\"] = pd.to_datetime(df[\"timestamp\"], unit=\"ms\")\n",
      "C:\\Users\\92476\\AppData\\Local\\Temp\\ipykernel_18724\\3304868075.py:24: FutureWarning: The behavior of 'to_datetime' with 'unit' when parsing strings is deprecated. In a future version, strings will be parsed as datetime strings, matching the behavior without a 'unit'. To retain the old behavior, explicitly cast ints or floats to numeric type before calling to_datetime.\n",
      "  df[\"timestamp\"] = pd.to_datetime(df[\"timestamp\"], unit=\"ms\")\n",
      "C:\\Users\\92476\\AppData\\Local\\Temp\\ipykernel_18724\\3304868075.py:24: FutureWarning: The behavior of 'to_datetime' with 'unit' when parsing strings is deprecated. In a future version, strings will be parsed as datetime strings, matching the behavior without a 'unit'. To retain the old behavior, explicitly cast ints or floats to numeric type before calling to_datetime.\n",
      "  df[\"timestamp\"] = pd.to_datetime(df[\"timestamp\"], unit=\"ms\")\n",
      "C:\\Users\\92476\\AppData\\Local\\Temp\\ipykernel_18724\\3304868075.py:24: FutureWarning: The behavior of 'to_datetime' with 'unit' when parsing strings is deprecated. In a future version, strings will be parsed as datetime strings, matching the behavior without a 'unit'. To retain the old behavior, explicitly cast ints or floats to numeric type before calling to_datetime.\n",
      "  df[\"timestamp\"] = pd.to_datetime(df[\"timestamp\"], unit=\"ms\")\n",
      "C:\\Users\\92476\\AppData\\Local\\Temp\\ipykernel_18724\\3304868075.py:24: FutureWarning: The behavior of 'to_datetime' with 'unit' when parsing strings is deprecated. In a future version, strings will be parsed as datetime strings, matching the behavior without a 'unit'. To retain the old behavior, explicitly cast ints or floats to numeric type before calling to_datetime.\n",
      "  df[\"timestamp\"] = pd.to_datetime(df[\"timestamp\"], unit=\"ms\")\n",
      "C:\\Users\\92476\\AppData\\Local\\Temp\\ipykernel_18724\\3304868075.py:24: FutureWarning: The behavior of 'to_datetime' with 'unit' when parsing strings is deprecated. In a future version, strings will be parsed as datetime strings, matching the behavior without a 'unit'. To retain the old behavior, explicitly cast ints or floats to numeric type before calling to_datetime.\n",
      "  df[\"timestamp\"] = pd.to_datetime(df[\"timestamp\"], unit=\"ms\")\n",
      "C:\\Users\\92476\\AppData\\Local\\Temp\\ipykernel_18724\\3304868075.py:24: FutureWarning: The behavior of 'to_datetime' with 'unit' when parsing strings is deprecated. In a future version, strings will be parsed as datetime strings, matching the behavior without a 'unit'. To retain the old behavior, explicitly cast ints or floats to numeric type before calling to_datetime.\n",
      "  df[\"timestamp\"] = pd.to_datetime(df[\"timestamp\"], unit=\"ms\")\n"
     ]
    },
    {
     "name": "stdout",
     "output_type": "stream",
     "text": [
      "\n",
      "📈 最优交易对权重分配:\n",
      "BTC-USDT: -1.0000\n",
      "ETH-USDT: 1.0000\n",
      "SOL-USDT: 0.8576\n",
      "BNB-USDT: -1.0000\n",
      "XRP-USDT: -1.0000\n",
      "ADA-USDT: -0.8575\n",
      "DOGE-USDT: 1.0000\n",
      "DOT-USDT: 1.0000\n"
     ]
    },
    {
     "name": "stderr",
     "output_type": "stream",
     "text": [
      "C:\\Users\\92476\\AppData\\Local\\Temp\\ipykernel_18724\\3304868075.py:176: DeprecationWarning: Conversion of an array with ndim > 0 to a scalar is deprecated, and will error in future. Ensure you extract a single element from your array before performing this operation. (Deprecated NumPy 1.25.)\n",
      "  actual_portfolio_return1.append(float(test_data.T @ W1[-1].value))\n",
      "C:\\Users\\92476\\AppData\\Local\\Temp\\ipykernel_18724\\3304868075.py:177: DeprecationWarning: Conversion of an array with ndim > 0 to a scalar is deprecated, and will error in future. Ensure you extract a single element from your array before performing this operation. (Deprecated NumPy 1.25.)\n",
      "  actual_portfolio_return2.append(float(test_data.T @ W2[-1].value))\n",
      " 10%|█         | 1/10 [00:10<01:31, 10.19s/it]"
     ]
    },
    {
     "name": "stdout",
     "output_type": "stream",
     "text": [
      "\n",
      "📈 最优交易对权重分配:\n",
      "BTC-USDT: 1.0000\n",
      "ETH-USDT: -1.0000\n",
      "SOL-USDT: 1.0000\n",
      "BNB-USDT: -1.0000\n",
      "XRP-USDT: -0.9044\n",
      "ADA-USDT: -0.9116\n",
      "DOGE-USDT: 1.0000\n",
      "DOT-USDT: 0.8160\n"
     ]
    },
    {
     "name": "stderr",
     "output_type": "stream",
     "text": [
      "C:\\Users\\92476\\AppData\\Local\\Temp\\ipykernel_18724\\3304868075.py:24: FutureWarning: The behavior of 'to_datetime' with 'unit' when parsing strings is deprecated. In a future version, strings will be parsed as datetime strings, matching the behavior without a 'unit'. To retain the old behavior, explicitly cast ints or floats to numeric type before calling to_datetime.\n",
      "  df[\"timestamp\"] = pd.to_datetime(df[\"timestamp\"], unit=\"ms\")\n",
      "C:\\Users\\92476\\AppData\\Local\\Temp\\ipykernel_18724\\3304868075.py:24: FutureWarning: The behavior of 'to_datetime' with 'unit' when parsing strings is deprecated. In a future version, strings will be parsed as datetime strings, matching the behavior without a 'unit'. To retain the old behavior, explicitly cast ints or floats to numeric type before calling to_datetime.\n",
      "  df[\"timestamp\"] = pd.to_datetime(df[\"timestamp\"], unit=\"ms\")\n",
      "C:\\Users\\92476\\AppData\\Local\\Temp\\ipykernel_18724\\3304868075.py:24: FutureWarning: The behavior of 'to_datetime' with 'unit' when parsing strings is deprecated. In a future version, strings will be parsed as datetime strings, matching the behavior without a 'unit'. To retain the old behavior, explicitly cast ints or floats to numeric type before calling to_datetime.\n",
      "  df[\"timestamp\"] = pd.to_datetime(df[\"timestamp\"], unit=\"ms\")\n",
      "C:\\Users\\92476\\AppData\\Local\\Temp\\ipykernel_18724\\3304868075.py:24: FutureWarning: The behavior of 'to_datetime' with 'unit' when parsing strings is deprecated. In a future version, strings will be parsed as datetime strings, matching the behavior without a 'unit'. To retain the old behavior, explicitly cast ints or floats to numeric type before calling to_datetime.\n",
      "  df[\"timestamp\"] = pd.to_datetime(df[\"timestamp\"], unit=\"ms\")\n",
      "C:\\Users\\92476\\AppData\\Local\\Temp\\ipykernel_18724\\3304868075.py:24: FutureWarning: The behavior of 'to_datetime' with 'unit' when parsing strings is deprecated. In a future version, strings will be parsed as datetime strings, matching the behavior without a 'unit'. To retain the old behavior, explicitly cast ints or floats to numeric type before calling to_datetime.\n",
      "  df[\"timestamp\"] = pd.to_datetime(df[\"timestamp\"], unit=\"ms\")\n",
      "C:\\Users\\92476\\AppData\\Local\\Temp\\ipykernel_18724\\3304868075.py:24: FutureWarning: The behavior of 'to_datetime' with 'unit' when parsing strings is deprecated. In a future version, strings will be parsed as datetime strings, matching the behavior without a 'unit'. To retain the old behavior, explicitly cast ints or floats to numeric type before calling to_datetime.\n",
      "  df[\"timestamp\"] = pd.to_datetime(df[\"timestamp\"], unit=\"ms\")\n",
      "C:\\Users\\92476\\AppData\\Local\\Temp\\ipykernel_18724\\3304868075.py:24: FutureWarning: The behavior of 'to_datetime' with 'unit' when parsing strings is deprecated. In a future version, strings will be parsed as datetime strings, matching the behavior without a 'unit'. To retain the old behavior, explicitly cast ints or floats to numeric type before calling to_datetime.\n",
      "  df[\"timestamp\"] = pd.to_datetime(df[\"timestamp\"], unit=\"ms\")\n",
      "C:\\Users\\92476\\AppData\\Local\\Temp\\ipykernel_18724\\3304868075.py:24: FutureWarning: The behavior of 'to_datetime' with 'unit' when parsing strings is deprecated. In a future version, strings will be parsed as datetime strings, matching the behavior without a 'unit'. To retain the old behavior, explicitly cast ints or floats to numeric type before calling to_datetime.\n",
      "  df[\"timestamp\"] = pd.to_datetime(df[\"timestamp\"], unit=\"ms\")\n"
     ]
    },
    {
     "name": "stdout",
     "output_type": "stream",
     "text": [
      "\n",
      "📈 最优交易对权重分配:\n",
      "BTC-USDT: -1.0000\n",
      "ETH-USDT: 1.0000\n",
      "SOL-USDT: 0.8555\n",
      "BNB-USDT: -1.0000\n",
      "XRP-USDT: -1.0000\n",
      "ADA-USDT: -0.8555\n",
      "DOGE-USDT: 1.0000\n",
      "DOT-USDT: 1.0000\n"
     ]
    },
    {
     "name": "stderr",
     "output_type": "stream",
     "text": [
      "C:\\Users\\92476\\AppData\\Local\\Temp\\ipykernel_18724\\3304868075.py:176: DeprecationWarning: Conversion of an array with ndim > 0 to a scalar is deprecated, and will error in future. Ensure you extract a single element from your array before performing this operation. (Deprecated NumPy 1.25.)\n",
      "  actual_portfolio_return1.append(float(test_data.T @ W1[-1].value))\n",
      "C:\\Users\\92476\\AppData\\Local\\Temp\\ipykernel_18724\\3304868075.py:177: DeprecationWarning: Conversion of an array with ndim > 0 to a scalar is deprecated, and will error in future. Ensure you extract a single element from your array before performing this operation. (Deprecated NumPy 1.25.)\n",
      "  actual_portfolio_return2.append(float(test_data.T @ W2[-1].value))\n",
      " 20%|██        | 2/10 [00:20<01:20, 10.05s/it]"
     ]
    },
    {
     "name": "stdout",
     "output_type": "stream",
     "text": [
      "\n",
      "📈 最优交易对权重分配:\n",
      "BTC-USDT: -1.0000\n",
      "ETH-USDT: 0.7220\n",
      "SOL-USDT: 1.0000\n",
      "BNB-USDT: -1.0000\n",
      "XRP-USDT: -0.9301\n",
      "ADA-USDT: -0.7918\n",
      "DOGE-USDT: 1.0000\n",
      "DOT-USDT: 1.0000\n"
     ]
    },
    {
     "name": "stderr",
     "output_type": "stream",
     "text": [
      "C:\\Users\\92476\\AppData\\Local\\Temp\\ipykernel_18724\\3304868075.py:24: FutureWarning: The behavior of 'to_datetime' with 'unit' when parsing strings is deprecated. In a future version, strings will be parsed as datetime strings, matching the behavior without a 'unit'. To retain the old behavior, explicitly cast ints or floats to numeric type before calling to_datetime.\n",
      "  df[\"timestamp\"] = pd.to_datetime(df[\"timestamp\"], unit=\"ms\")\n",
      "C:\\Users\\92476\\AppData\\Local\\Temp\\ipykernel_18724\\3304868075.py:24: FutureWarning: The behavior of 'to_datetime' with 'unit' when parsing strings is deprecated. In a future version, strings will be parsed as datetime strings, matching the behavior without a 'unit'. To retain the old behavior, explicitly cast ints or floats to numeric type before calling to_datetime.\n",
      "  df[\"timestamp\"] = pd.to_datetime(df[\"timestamp\"], unit=\"ms\")\n",
      "C:\\Users\\92476\\AppData\\Local\\Temp\\ipykernel_18724\\3304868075.py:24: FutureWarning: The behavior of 'to_datetime' with 'unit' when parsing strings is deprecated. In a future version, strings will be parsed as datetime strings, matching the behavior without a 'unit'. To retain the old behavior, explicitly cast ints or floats to numeric type before calling to_datetime.\n",
      "  df[\"timestamp\"] = pd.to_datetime(df[\"timestamp\"], unit=\"ms\")\n",
      "C:\\Users\\92476\\AppData\\Local\\Temp\\ipykernel_18724\\3304868075.py:24: FutureWarning: The behavior of 'to_datetime' with 'unit' when parsing strings is deprecated. In a future version, strings will be parsed as datetime strings, matching the behavior without a 'unit'. To retain the old behavior, explicitly cast ints or floats to numeric type before calling to_datetime.\n",
      "  df[\"timestamp\"] = pd.to_datetime(df[\"timestamp\"], unit=\"ms\")\n",
      "C:\\Users\\92476\\AppData\\Local\\Temp\\ipykernel_18724\\3304868075.py:24: FutureWarning: The behavior of 'to_datetime' with 'unit' when parsing strings is deprecated. In a future version, strings will be parsed as datetime strings, matching the behavior without a 'unit'. To retain the old behavior, explicitly cast ints or floats to numeric type before calling to_datetime.\n",
      "  df[\"timestamp\"] = pd.to_datetime(df[\"timestamp\"], unit=\"ms\")\n",
      "C:\\Users\\92476\\AppData\\Local\\Temp\\ipykernel_18724\\3304868075.py:24: FutureWarning: The behavior of 'to_datetime' with 'unit' when parsing strings is deprecated. In a future version, strings will be parsed as datetime strings, matching the behavior without a 'unit'. To retain the old behavior, explicitly cast ints or floats to numeric type before calling to_datetime.\n",
      "  df[\"timestamp\"] = pd.to_datetime(df[\"timestamp\"], unit=\"ms\")\n",
      "C:\\Users\\92476\\AppData\\Local\\Temp\\ipykernel_18724\\3304868075.py:24: FutureWarning: The behavior of 'to_datetime' with 'unit' when parsing strings is deprecated. In a future version, strings will be parsed as datetime strings, matching the behavior without a 'unit'. To retain the old behavior, explicitly cast ints or floats to numeric type before calling to_datetime.\n",
      "  df[\"timestamp\"] = pd.to_datetime(df[\"timestamp\"], unit=\"ms\")\n",
      "C:\\Users\\92476\\AppData\\Local\\Temp\\ipykernel_18724\\3304868075.py:24: FutureWarning: The behavior of 'to_datetime' with 'unit' when parsing strings is deprecated. In a future version, strings will be parsed as datetime strings, matching the behavior without a 'unit'. To retain the old behavior, explicitly cast ints or floats to numeric type before calling to_datetime.\n",
      "  df[\"timestamp\"] = pd.to_datetime(df[\"timestamp\"], unit=\"ms\")\n"
     ]
    },
    {
     "name": "stdout",
     "output_type": "stream",
     "text": [
      "\n",
      "📈 最优交易对权重分配:\n",
      "BTC-USDT: -1.0000\n",
      "ETH-USDT: 1.0000\n",
      "SOL-USDT: 0.8570\n",
      "BNB-USDT: -1.0000\n",
      "XRP-USDT: -1.0000\n",
      "ADA-USDT: -0.8569\n",
      "DOGE-USDT: 1.0000\n",
      "DOT-USDT: 1.0000\n"
     ]
    },
    {
     "name": "stderr",
     "output_type": "stream",
     "text": [
      "C:\\Users\\92476\\AppData\\Local\\Temp\\ipykernel_18724\\3304868075.py:176: DeprecationWarning: Conversion of an array with ndim > 0 to a scalar is deprecated, and will error in future. Ensure you extract a single element from your array before performing this operation. (Deprecated NumPy 1.25.)\n",
      "  actual_portfolio_return1.append(float(test_data.T @ W1[-1].value))\n",
      "C:\\Users\\92476\\AppData\\Local\\Temp\\ipykernel_18724\\3304868075.py:177: DeprecationWarning: Conversion of an array with ndim > 0 to a scalar is deprecated, and will error in future. Ensure you extract a single element from your array before performing this operation. (Deprecated NumPy 1.25.)\n",
      "  actual_portfolio_return2.append(float(test_data.T @ W2[-1].value))\n",
      " 30%|███       | 3/10 [00:30<01:10, 10.09s/it]"
     ]
    },
    {
     "name": "stdout",
     "output_type": "stream",
     "text": [
      "\n",
      "📈 最优交易对权重分配:\n",
      "BTC-USDT: -0.7773\n",
      "ETH-USDT: 1.0000\n",
      "SOL-USDT: -0.1080\n",
      "BNB-USDT: -1.0000\n",
      "XRP-USDT: -1.0000\n",
      "ADA-USDT: -0.1147\n",
      "DOGE-USDT: 1.0000\n",
      "DOT-USDT: 1.0000\n"
     ]
    },
    {
     "name": "stderr",
     "output_type": "stream",
     "text": [
      "C:\\Users\\92476\\AppData\\Local\\Temp\\ipykernel_18724\\3304868075.py:24: FutureWarning: The behavior of 'to_datetime' with 'unit' when parsing strings is deprecated. In a future version, strings will be parsed as datetime strings, matching the behavior without a 'unit'. To retain the old behavior, explicitly cast ints or floats to numeric type before calling to_datetime.\n",
      "  df[\"timestamp\"] = pd.to_datetime(df[\"timestamp\"], unit=\"ms\")\n",
      "C:\\Users\\92476\\AppData\\Local\\Temp\\ipykernel_18724\\3304868075.py:24: FutureWarning: The behavior of 'to_datetime' with 'unit' when parsing strings is deprecated. In a future version, strings will be parsed as datetime strings, matching the behavior without a 'unit'. To retain the old behavior, explicitly cast ints or floats to numeric type before calling to_datetime.\n",
      "  df[\"timestamp\"] = pd.to_datetime(df[\"timestamp\"], unit=\"ms\")\n",
      "C:\\Users\\92476\\AppData\\Local\\Temp\\ipykernel_18724\\3304868075.py:24: FutureWarning: The behavior of 'to_datetime' with 'unit' when parsing strings is deprecated. In a future version, strings will be parsed as datetime strings, matching the behavior without a 'unit'. To retain the old behavior, explicitly cast ints or floats to numeric type before calling to_datetime.\n",
      "  df[\"timestamp\"] = pd.to_datetime(df[\"timestamp\"], unit=\"ms\")\n",
      "C:\\Users\\92476\\AppData\\Local\\Temp\\ipykernel_18724\\3304868075.py:24: FutureWarning: The behavior of 'to_datetime' with 'unit' when parsing strings is deprecated. In a future version, strings will be parsed as datetime strings, matching the behavior without a 'unit'. To retain the old behavior, explicitly cast ints or floats to numeric type before calling to_datetime.\n",
      "  df[\"timestamp\"] = pd.to_datetime(df[\"timestamp\"], unit=\"ms\")\n",
      "C:\\Users\\92476\\AppData\\Local\\Temp\\ipykernel_18724\\3304868075.py:24: FutureWarning: The behavior of 'to_datetime' with 'unit' when parsing strings is deprecated. In a future version, strings will be parsed as datetime strings, matching the behavior without a 'unit'. To retain the old behavior, explicitly cast ints or floats to numeric type before calling to_datetime.\n",
      "  df[\"timestamp\"] = pd.to_datetime(df[\"timestamp\"], unit=\"ms\")\n",
      "C:\\Users\\92476\\AppData\\Local\\Temp\\ipykernel_18724\\3304868075.py:24: FutureWarning: The behavior of 'to_datetime' with 'unit' when parsing strings is deprecated. In a future version, strings will be parsed as datetime strings, matching the behavior without a 'unit'. To retain the old behavior, explicitly cast ints or floats to numeric type before calling to_datetime.\n",
      "  df[\"timestamp\"] = pd.to_datetime(df[\"timestamp\"], unit=\"ms\")\n",
      "C:\\Users\\92476\\AppData\\Local\\Temp\\ipykernel_18724\\3304868075.py:24: FutureWarning: The behavior of 'to_datetime' with 'unit' when parsing strings is deprecated. In a future version, strings will be parsed as datetime strings, matching the behavior without a 'unit'. To retain the old behavior, explicitly cast ints or floats to numeric type before calling to_datetime.\n",
      "  df[\"timestamp\"] = pd.to_datetime(df[\"timestamp\"], unit=\"ms\")\n",
      "C:\\Users\\92476\\AppData\\Local\\Temp\\ipykernel_18724\\3304868075.py:24: FutureWarning: The behavior of 'to_datetime' with 'unit' when parsing strings is deprecated. In a future version, strings will be parsed as datetime strings, matching the behavior without a 'unit'. To retain the old behavior, explicitly cast ints or floats to numeric type before calling to_datetime.\n",
      "  df[\"timestamp\"] = pd.to_datetime(df[\"timestamp\"], unit=\"ms\")\n"
     ]
    },
    {
     "name": "stdout",
     "output_type": "stream",
     "text": [
      "\n",
      "📈 最优交易对权重分配:\n",
      "BTC-USDT: -1.0000\n",
      "ETH-USDT: 1.0000\n",
      "SOL-USDT: 0.8552\n",
      "BNB-USDT: -1.0000\n",
      "XRP-USDT: -1.0000\n",
      "ADA-USDT: -0.8551\n",
      "DOGE-USDT: 1.0000\n",
      "DOT-USDT: 1.0000\n"
     ]
    },
    {
     "name": "stderr",
     "output_type": "stream",
     "text": [
      "C:\\Users\\92476\\AppData\\Local\\Temp\\ipykernel_18724\\3304868075.py:176: DeprecationWarning: Conversion of an array with ndim > 0 to a scalar is deprecated, and will error in future. Ensure you extract a single element from your array before performing this operation. (Deprecated NumPy 1.25.)\n",
      "  actual_portfolio_return1.append(float(test_data.T @ W1[-1].value))\n",
      "C:\\Users\\92476\\AppData\\Local\\Temp\\ipykernel_18724\\3304868075.py:177: DeprecationWarning: Conversion of an array with ndim > 0 to a scalar is deprecated, and will error in future. Ensure you extract a single element from your array before performing this operation. (Deprecated NumPy 1.25.)\n",
      "  actual_portfolio_return2.append(float(test_data.T @ W2[-1].value))\n",
      " 40%|████      | 4/10 [00:40<01:01, 10.18s/it]"
     ]
    },
    {
     "name": "stdout",
     "output_type": "stream",
     "text": [
      "\n",
      "📈 最优交易对权重分配:\n",
      "BTC-USDT: 0.3607\n",
      "ETH-USDT: -1.0000\n",
      "SOL-USDT: 1.0000\n",
      "BNB-USDT: -1.0000\n",
      "XRP-USDT: -1.0000\n",
      "ADA-USDT: -0.3606\n",
      "DOGE-USDT: 1.0000\n",
      "DOT-USDT: 1.0000\n"
     ]
    },
    {
     "name": "stderr",
     "output_type": "stream",
     "text": [
      "C:\\Users\\92476\\AppData\\Local\\Temp\\ipykernel_18724\\3304868075.py:24: FutureWarning: The behavior of 'to_datetime' with 'unit' when parsing strings is deprecated. In a future version, strings will be parsed as datetime strings, matching the behavior without a 'unit'. To retain the old behavior, explicitly cast ints or floats to numeric type before calling to_datetime.\n",
      "  df[\"timestamp\"] = pd.to_datetime(df[\"timestamp\"], unit=\"ms\")\n",
      "C:\\Users\\92476\\AppData\\Local\\Temp\\ipykernel_18724\\3304868075.py:24: FutureWarning: The behavior of 'to_datetime' with 'unit' when parsing strings is deprecated. In a future version, strings will be parsed as datetime strings, matching the behavior without a 'unit'. To retain the old behavior, explicitly cast ints or floats to numeric type before calling to_datetime.\n",
      "  df[\"timestamp\"] = pd.to_datetime(df[\"timestamp\"], unit=\"ms\")\n",
      "C:\\Users\\92476\\AppData\\Local\\Temp\\ipykernel_18724\\3304868075.py:24: FutureWarning: The behavior of 'to_datetime' with 'unit' when parsing strings is deprecated. In a future version, strings will be parsed as datetime strings, matching the behavior without a 'unit'. To retain the old behavior, explicitly cast ints or floats to numeric type before calling to_datetime.\n",
      "  df[\"timestamp\"] = pd.to_datetime(df[\"timestamp\"], unit=\"ms\")\n",
      "C:\\Users\\92476\\AppData\\Local\\Temp\\ipykernel_18724\\3304868075.py:24: FutureWarning: The behavior of 'to_datetime' with 'unit' when parsing strings is deprecated. In a future version, strings will be parsed as datetime strings, matching the behavior without a 'unit'. To retain the old behavior, explicitly cast ints or floats to numeric type before calling to_datetime.\n",
      "  df[\"timestamp\"] = pd.to_datetime(df[\"timestamp\"], unit=\"ms\")\n",
      "C:\\Users\\92476\\AppData\\Local\\Temp\\ipykernel_18724\\3304868075.py:24: FutureWarning: The behavior of 'to_datetime' with 'unit' when parsing strings is deprecated. In a future version, strings will be parsed as datetime strings, matching the behavior without a 'unit'. To retain the old behavior, explicitly cast ints or floats to numeric type before calling to_datetime.\n",
      "  df[\"timestamp\"] = pd.to_datetime(df[\"timestamp\"], unit=\"ms\")\n",
      "C:\\Users\\92476\\AppData\\Local\\Temp\\ipykernel_18724\\3304868075.py:24: FutureWarning: The behavior of 'to_datetime' with 'unit' when parsing strings is deprecated. In a future version, strings will be parsed as datetime strings, matching the behavior without a 'unit'. To retain the old behavior, explicitly cast ints or floats to numeric type before calling to_datetime.\n",
      "  df[\"timestamp\"] = pd.to_datetime(df[\"timestamp\"], unit=\"ms\")\n",
      "C:\\Users\\92476\\AppData\\Local\\Temp\\ipykernel_18724\\3304868075.py:24: FutureWarning: The behavior of 'to_datetime' with 'unit' when parsing strings is deprecated. In a future version, strings will be parsed as datetime strings, matching the behavior without a 'unit'. To retain the old behavior, explicitly cast ints or floats to numeric type before calling to_datetime.\n",
      "  df[\"timestamp\"] = pd.to_datetime(df[\"timestamp\"], unit=\"ms\")\n",
      "C:\\Users\\92476\\AppData\\Local\\Temp\\ipykernel_18724\\3304868075.py:24: FutureWarning: The behavior of 'to_datetime' with 'unit' when parsing strings is deprecated. In a future version, strings will be parsed as datetime strings, matching the behavior without a 'unit'. To retain the old behavior, explicitly cast ints or floats to numeric type before calling to_datetime.\n",
      "  df[\"timestamp\"] = pd.to_datetime(df[\"timestamp\"], unit=\"ms\")\n"
     ]
    },
    {
     "name": "stdout",
     "output_type": "stream",
     "text": [
      "\n",
      "📈 最优交易对权重分配:\n",
      "BTC-USDT: -1.0000\n",
      "ETH-USDT: 1.0000\n",
      "SOL-USDT: 0.8510\n",
      "BNB-USDT: -1.0000\n",
      "XRP-USDT: -1.0000\n",
      "ADA-USDT: -0.8510\n",
      "DOGE-USDT: 1.0000\n",
      "DOT-USDT: 1.0000\n"
     ]
    },
    {
     "name": "stderr",
     "output_type": "stream",
     "text": [
      "C:\\Users\\92476\\AppData\\Local\\Temp\\ipykernel_18724\\3304868075.py:176: DeprecationWarning: Conversion of an array with ndim > 0 to a scalar is deprecated, and will error in future. Ensure you extract a single element from your array before performing this operation. (Deprecated NumPy 1.25.)\n",
      "  actual_portfolio_return1.append(float(test_data.T @ W1[-1].value))\n",
      "C:\\Users\\92476\\AppData\\Local\\Temp\\ipykernel_18724\\3304868075.py:177: DeprecationWarning: Conversion of an array with ndim > 0 to a scalar is deprecated, and will error in future. Ensure you extract a single element from your array before performing this operation. (Deprecated NumPy 1.25.)\n",
      "  actual_portfolio_return2.append(float(test_data.T @ W2[-1].value))\n",
      " 50%|█████     | 5/10 [00:51<00:51, 10.28s/it]"
     ]
    },
    {
     "name": "stdout",
     "output_type": "stream",
     "text": [
      "\n",
      "📈 最优交易对权重分配:\n",
      "BTC-USDT: -1.0000\n",
      "ETH-USDT: -1.0000\n",
      "SOL-USDT: 1.0000\n",
      "BNB-USDT: -0.2652\n",
      "XRP-USDT: -1.0000\n",
      "ADA-USDT: 0.8167\n",
      "DOGE-USDT: 1.0000\n",
      "DOT-USDT: 0.4485\n"
     ]
    },
    {
     "name": "stderr",
     "output_type": "stream",
     "text": [
      "C:\\Users\\92476\\AppData\\Local\\Temp\\ipykernel_18724\\3304868075.py:24: FutureWarning: The behavior of 'to_datetime' with 'unit' when parsing strings is deprecated. In a future version, strings will be parsed as datetime strings, matching the behavior without a 'unit'. To retain the old behavior, explicitly cast ints or floats to numeric type before calling to_datetime.\n",
      "  df[\"timestamp\"] = pd.to_datetime(df[\"timestamp\"], unit=\"ms\")\n",
      "C:\\Users\\92476\\AppData\\Local\\Temp\\ipykernel_18724\\3304868075.py:24: FutureWarning: The behavior of 'to_datetime' with 'unit' when parsing strings is deprecated. In a future version, strings will be parsed as datetime strings, matching the behavior without a 'unit'. To retain the old behavior, explicitly cast ints or floats to numeric type before calling to_datetime.\n",
      "  df[\"timestamp\"] = pd.to_datetime(df[\"timestamp\"], unit=\"ms\")\n",
      "C:\\Users\\92476\\AppData\\Local\\Temp\\ipykernel_18724\\3304868075.py:24: FutureWarning: The behavior of 'to_datetime' with 'unit' when parsing strings is deprecated. In a future version, strings will be parsed as datetime strings, matching the behavior without a 'unit'. To retain the old behavior, explicitly cast ints or floats to numeric type before calling to_datetime.\n",
      "  df[\"timestamp\"] = pd.to_datetime(df[\"timestamp\"], unit=\"ms\")\n",
      "C:\\Users\\92476\\AppData\\Local\\Temp\\ipykernel_18724\\3304868075.py:24: FutureWarning: The behavior of 'to_datetime' with 'unit' when parsing strings is deprecated. In a future version, strings will be parsed as datetime strings, matching the behavior without a 'unit'. To retain the old behavior, explicitly cast ints or floats to numeric type before calling to_datetime.\n",
      "  df[\"timestamp\"] = pd.to_datetime(df[\"timestamp\"], unit=\"ms\")\n",
      "C:\\Users\\92476\\AppData\\Local\\Temp\\ipykernel_18724\\3304868075.py:24: FutureWarning: The behavior of 'to_datetime' with 'unit' when parsing strings is deprecated. In a future version, strings will be parsed as datetime strings, matching the behavior without a 'unit'. To retain the old behavior, explicitly cast ints or floats to numeric type before calling to_datetime.\n",
      "  df[\"timestamp\"] = pd.to_datetime(df[\"timestamp\"], unit=\"ms\")\n",
      "C:\\Users\\92476\\AppData\\Local\\Temp\\ipykernel_18724\\3304868075.py:24: FutureWarning: The behavior of 'to_datetime' with 'unit' when parsing strings is deprecated. In a future version, strings will be parsed as datetime strings, matching the behavior without a 'unit'. To retain the old behavior, explicitly cast ints or floats to numeric type before calling to_datetime.\n",
      "  df[\"timestamp\"] = pd.to_datetime(df[\"timestamp\"], unit=\"ms\")\n",
      "C:\\Users\\92476\\AppData\\Local\\Temp\\ipykernel_18724\\3304868075.py:24: FutureWarning: The behavior of 'to_datetime' with 'unit' when parsing strings is deprecated. In a future version, strings will be parsed as datetime strings, matching the behavior without a 'unit'. To retain the old behavior, explicitly cast ints or floats to numeric type before calling to_datetime.\n",
      "  df[\"timestamp\"] = pd.to_datetime(df[\"timestamp\"], unit=\"ms\")\n",
      "C:\\Users\\92476\\AppData\\Local\\Temp\\ipykernel_18724\\3304868075.py:24: FutureWarning: The behavior of 'to_datetime' with 'unit' when parsing strings is deprecated. In a future version, strings will be parsed as datetime strings, matching the behavior without a 'unit'. To retain the old behavior, explicitly cast ints or floats to numeric type before calling to_datetime.\n",
      "  df[\"timestamp\"] = pd.to_datetime(df[\"timestamp\"], unit=\"ms\")\n"
     ]
    },
    {
     "name": "stdout",
     "output_type": "stream",
     "text": [
      "\n",
      "📈 最优交易对权重分配:\n",
      "BTC-USDT: -1.0000\n",
      "ETH-USDT: 1.0000\n",
      "SOL-USDT: 0.8517\n",
      "BNB-USDT: -1.0000\n",
      "XRP-USDT: -1.0000\n",
      "ADA-USDT: -0.8517\n",
      "DOGE-USDT: 1.0000\n",
      "DOT-USDT: 1.0000\n"
     ]
    },
    {
     "name": "stderr",
     "output_type": "stream",
     "text": [
      "C:\\Users\\92476\\AppData\\Local\\Temp\\ipykernel_18724\\3304868075.py:176: DeprecationWarning: Conversion of an array with ndim > 0 to a scalar is deprecated, and will error in future. Ensure you extract a single element from your array before performing this operation. (Deprecated NumPy 1.25.)\n",
      "  actual_portfolio_return1.append(float(test_data.T @ W1[-1].value))\n",
      "C:\\Users\\92476\\AppData\\Local\\Temp\\ipykernel_18724\\3304868075.py:177: DeprecationWarning: Conversion of an array with ndim > 0 to a scalar is deprecated, and will error in future. Ensure you extract a single element from your array before performing this operation. (Deprecated NumPy 1.25.)\n",
      "  actual_portfolio_return2.append(float(test_data.T @ W2[-1].value))\n",
      " 60%|██████    | 6/10 [01:01<00:41, 10.27s/it]"
     ]
    },
    {
     "name": "stdout",
     "output_type": "stream",
     "text": [
      "\n",
      "📈 最优交易对权重分配:\n",
      "BTC-USDT: -1.0000\n",
      "ETH-USDT: 1.0000\n",
      "SOL-USDT: 1.0000\n",
      "BNB-USDT: -1.0000\n",
      "XRP-USDT: -1.0000\n",
      "ADA-USDT: -1.0000\n",
      "DOGE-USDT: 1.0000\n",
      "DOT-USDT: 1.0000\n"
     ]
    },
    {
     "name": "stderr",
     "output_type": "stream",
     "text": [
      "C:\\Users\\92476\\AppData\\Local\\Temp\\ipykernel_18724\\3304868075.py:24: FutureWarning: The behavior of 'to_datetime' with 'unit' when parsing strings is deprecated. In a future version, strings will be parsed as datetime strings, matching the behavior without a 'unit'. To retain the old behavior, explicitly cast ints or floats to numeric type before calling to_datetime.\n",
      "  df[\"timestamp\"] = pd.to_datetime(df[\"timestamp\"], unit=\"ms\")\n",
      "C:\\Users\\92476\\AppData\\Local\\Temp\\ipykernel_18724\\3304868075.py:24: FutureWarning: The behavior of 'to_datetime' with 'unit' when parsing strings is deprecated. In a future version, strings will be parsed as datetime strings, matching the behavior without a 'unit'. To retain the old behavior, explicitly cast ints or floats to numeric type before calling to_datetime.\n",
      "  df[\"timestamp\"] = pd.to_datetime(df[\"timestamp\"], unit=\"ms\")\n",
      "C:\\Users\\92476\\AppData\\Local\\Temp\\ipykernel_18724\\3304868075.py:24: FutureWarning: The behavior of 'to_datetime' with 'unit' when parsing strings is deprecated. In a future version, strings will be parsed as datetime strings, matching the behavior without a 'unit'. To retain the old behavior, explicitly cast ints or floats to numeric type before calling to_datetime.\n",
      "  df[\"timestamp\"] = pd.to_datetime(df[\"timestamp\"], unit=\"ms\")\n",
      "C:\\Users\\92476\\AppData\\Local\\Temp\\ipykernel_18724\\3304868075.py:24: FutureWarning: The behavior of 'to_datetime' with 'unit' when parsing strings is deprecated. In a future version, strings will be parsed as datetime strings, matching the behavior without a 'unit'. To retain the old behavior, explicitly cast ints or floats to numeric type before calling to_datetime.\n",
      "  df[\"timestamp\"] = pd.to_datetime(df[\"timestamp\"], unit=\"ms\")\n",
      "C:\\Users\\92476\\AppData\\Local\\Temp\\ipykernel_18724\\3304868075.py:24: FutureWarning: The behavior of 'to_datetime' with 'unit' when parsing strings is deprecated. In a future version, strings will be parsed as datetime strings, matching the behavior without a 'unit'. To retain the old behavior, explicitly cast ints or floats to numeric type before calling to_datetime.\n",
      "  df[\"timestamp\"] = pd.to_datetime(df[\"timestamp\"], unit=\"ms\")\n",
      "C:\\Users\\92476\\AppData\\Local\\Temp\\ipykernel_18724\\3304868075.py:24: FutureWarning: The behavior of 'to_datetime' with 'unit' when parsing strings is deprecated. In a future version, strings will be parsed as datetime strings, matching the behavior without a 'unit'. To retain the old behavior, explicitly cast ints or floats to numeric type before calling to_datetime.\n",
      "  df[\"timestamp\"] = pd.to_datetime(df[\"timestamp\"], unit=\"ms\")\n",
      "C:\\Users\\92476\\AppData\\Local\\Temp\\ipykernel_18724\\3304868075.py:24: FutureWarning: The behavior of 'to_datetime' with 'unit' when parsing strings is deprecated. In a future version, strings will be parsed as datetime strings, matching the behavior without a 'unit'. To retain the old behavior, explicitly cast ints or floats to numeric type before calling to_datetime.\n",
      "  df[\"timestamp\"] = pd.to_datetime(df[\"timestamp\"], unit=\"ms\")\n",
      "C:\\Users\\92476\\AppData\\Local\\Temp\\ipykernel_18724\\3304868075.py:24: FutureWarning: The behavior of 'to_datetime' with 'unit' when parsing strings is deprecated. In a future version, strings will be parsed as datetime strings, matching the behavior without a 'unit'. To retain the old behavior, explicitly cast ints or floats to numeric type before calling to_datetime.\n",
      "  df[\"timestamp\"] = pd.to_datetime(df[\"timestamp\"], unit=\"ms\")\n"
     ]
    },
    {
     "name": "stdout",
     "output_type": "stream",
     "text": [
      "\n",
      "📈 最优交易对权重分配:\n",
      "BTC-USDT: -1.0000\n",
      "ETH-USDT: 1.0000\n",
      "SOL-USDT: 0.8501\n",
      "BNB-USDT: -1.0000\n",
      "XRP-USDT: -1.0000\n",
      "ADA-USDT: -0.8501\n",
      "DOGE-USDT: 1.0000\n",
      "DOT-USDT: 1.0000\n"
     ]
    },
    {
     "name": "stderr",
     "output_type": "stream",
     "text": [
      "C:\\Users\\92476\\AppData\\Local\\Temp\\ipykernel_18724\\3304868075.py:176: DeprecationWarning: Conversion of an array with ndim > 0 to a scalar is deprecated, and will error in future. Ensure you extract a single element from your array before performing this operation. (Deprecated NumPy 1.25.)\n",
      "  actual_portfolio_return1.append(float(test_data.T @ W1[-1].value))\n",
      "C:\\Users\\92476\\AppData\\Local\\Temp\\ipykernel_18724\\3304868075.py:177: DeprecationWarning: Conversion of an array with ndim > 0 to a scalar is deprecated, and will error in future. Ensure you extract a single element from your array before performing this operation. (Deprecated NumPy 1.25.)\n",
      "  actual_portfolio_return2.append(float(test_data.T @ W2[-1].value))\n",
      " 70%|███████   | 7/10 [01:12<00:31, 10.44s/it]"
     ]
    },
    {
     "name": "stdout",
     "output_type": "stream",
     "text": [
      "\n",
      "📈 最优交易对权重分配:\n",
      "BTC-USDT: 1.0000\n",
      "ETH-USDT: -0.8095\n",
      "SOL-USDT: 1.0000\n",
      "BNB-USDT: -1.0000\n",
      "XRP-USDT: -1.0000\n",
      "ADA-USDT: 0.8094\n",
      "DOGE-USDT: 1.0000\n",
      "DOT-USDT: -1.0000\n"
     ]
    },
    {
     "name": "stderr",
     "output_type": "stream",
     "text": [
      "C:\\Users\\92476\\AppData\\Local\\Temp\\ipykernel_18724\\3304868075.py:24: FutureWarning: The behavior of 'to_datetime' with 'unit' when parsing strings is deprecated. In a future version, strings will be parsed as datetime strings, matching the behavior without a 'unit'. To retain the old behavior, explicitly cast ints or floats to numeric type before calling to_datetime.\n",
      "  df[\"timestamp\"] = pd.to_datetime(df[\"timestamp\"], unit=\"ms\")\n",
      "C:\\Users\\92476\\AppData\\Local\\Temp\\ipykernel_18724\\3304868075.py:24: FutureWarning: The behavior of 'to_datetime' with 'unit' when parsing strings is deprecated. In a future version, strings will be parsed as datetime strings, matching the behavior without a 'unit'. To retain the old behavior, explicitly cast ints or floats to numeric type before calling to_datetime.\n",
      "  df[\"timestamp\"] = pd.to_datetime(df[\"timestamp\"], unit=\"ms\")\n",
      "C:\\Users\\92476\\AppData\\Local\\Temp\\ipykernel_18724\\3304868075.py:24: FutureWarning: The behavior of 'to_datetime' with 'unit' when parsing strings is deprecated. In a future version, strings will be parsed as datetime strings, matching the behavior without a 'unit'. To retain the old behavior, explicitly cast ints or floats to numeric type before calling to_datetime.\n",
      "  df[\"timestamp\"] = pd.to_datetime(df[\"timestamp\"], unit=\"ms\")\n",
      "C:\\Users\\92476\\AppData\\Local\\Temp\\ipykernel_18724\\3304868075.py:24: FutureWarning: The behavior of 'to_datetime' with 'unit' when parsing strings is deprecated. In a future version, strings will be parsed as datetime strings, matching the behavior without a 'unit'. To retain the old behavior, explicitly cast ints or floats to numeric type before calling to_datetime.\n",
      "  df[\"timestamp\"] = pd.to_datetime(df[\"timestamp\"], unit=\"ms\")\n",
      "C:\\Users\\92476\\AppData\\Local\\Temp\\ipykernel_18724\\3304868075.py:24: FutureWarning: The behavior of 'to_datetime' with 'unit' when parsing strings is deprecated. In a future version, strings will be parsed as datetime strings, matching the behavior without a 'unit'. To retain the old behavior, explicitly cast ints or floats to numeric type before calling to_datetime.\n",
      "  df[\"timestamp\"] = pd.to_datetime(df[\"timestamp\"], unit=\"ms\")\n",
      "C:\\Users\\92476\\AppData\\Local\\Temp\\ipykernel_18724\\3304868075.py:24: FutureWarning: The behavior of 'to_datetime' with 'unit' when parsing strings is deprecated. In a future version, strings will be parsed as datetime strings, matching the behavior without a 'unit'. To retain the old behavior, explicitly cast ints or floats to numeric type before calling to_datetime.\n",
      "  df[\"timestamp\"] = pd.to_datetime(df[\"timestamp\"], unit=\"ms\")\n",
      "C:\\Users\\92476\\AppData\\Local\\Temp\\ipykernel_18724\\3304868075.py:24: FutureWarning: The behavior of 'to_datetime' with 'unit' when parsing strings is deprecated. In a future version, strings will be parsed as datetime strings, matching the behavior without a 'unit'. To retain the old behavior, explicitly cast ints or floats to numeric type before calling to_datetime.\n",
      "  df[\"timestamp\"] = pd.to_datetime(df[\"timestamp\"], unit=\"ms\")\n",
      "C:\\Users\\92476\\AppData\\Local\\Temp\\ipykernel_18724\\3304868075.py:24: FutureWarning: The behavior of 'to_datetime' with 'unit' when parsing strings is deprecated. In a future version, strings will be parsed as datetime strings, matching the behavior without a 'unit'. To retain the old behavior, explicitly cast ints or floats to numeric type before calling to_datetime.\n",
      "  df[\"timestamp\"] = pd.to_datetime(df[\"timestamp\"], unit=\"ms\")\n"
     ]
    },
    {
     "name": "stdout",
     "output_type": "stream",
     "text": [
      "\n",
      "📈 最优交易对权重分配:\n",
      "BTC-USDT: -1.0000\n",
      "ETH-USDT: 1.0000\n",
      "SOL-USDT: 0.8515\n",
      "BNB-USDT: -1.0000\n",
      "XRP-USDT: -1.0000\n",
      "ADA-USDT: -0.8515\n",
      "DOGE-USDT: 1.0000\n",
      "DOT-USDT: 1.0000\n"
     ]
    },
    {
     "name": "stderr",
     "output_type": "stream",
     "text": [
      "C:\\Users\\92476\\AppData\\Local\\Temp\\ipykernel_18724\\3304868075.py:176: DeprecationWarning: Conversion of an array with ndim > 0 to a scalar is deprecated, and will error in future. Ensure you extract a single element from your array before performing this operation. (Deprecated NumPy 1.25.)\n",
      "  actual_portfolio_return1.append(float(test_data.T @ W1[-1].value))\n",
      "C:\\Users\\92476\\AppData\\Local\\Temp\\ipykernel_18724\\3304868075.py:177: DeprecationWarning: Conversion of an array with ndim > 0 to a scalar is deprecated, and will error in future. Ensure you extract a single element from your array before performing this operation. (Deprecated NumPy 1.25.)\n",
      "  actual_portfolio_return2.append(float(test_data.T @ W2[-1].value))\n",
      " 80%|████████  | 8/10 [01:22<00:20, 10.46s/it]"
     ]
    },
    {
     "name": "stdout",
     "output_type": "stream",
     "text": [
      "\n",
      "📈 最优交易对权重分配:\n",
      "BTC-USDT: 0.4996\n",
      "ETH-USDT: 1.0000\n",
      "SOL-USDT: -1.0000\n",
      "BNB-USDT: -0.7846\n",
      "XRP-USDT: -0.9386\n",
      "ADA-USDT: -0.7764\n",
      "DOGE-USDT: 1.0000\n",
      "DOT-USDT: 1.0000\n"
     ]
    },
    {
     "name": "stderr",
     "output_type": "stream",
     "text": [
      "C:\\Users\\92476\\AppData\\Local\\Temp\\ipykernel_18724\\3304868075.py:24: FutureWarning: The behavior of 'to_datetime' with 'unit' when parsing strings is deprecated. In a future version, strings will be parsed as datetime strings, matching the behavior without a 'unit'. To retain the old behavior, explicitly cast ints or floats to numeric type before calling to_datetime.\n",
      "  df[\"timestamp\"] = pd.to_datetime(df[\"timestamp\"], unit=\"ms\")\n",
      "C:\\Users\\92476\\AppData\\Local\\Temp\\ipykernel_18724\\3304868075.py:24: FutureWarning: The behavior of 'to_datetime' with 'unit' when parsing strings is deprecated. In a future version, strings will be parsed as datetime strings, matching the behavior without a 'unit'. To retain the old behavior, explicitly cast ints or floats to numeric type before calling to_datetime.\n",
      "  df[\"timestamp\"] = pd.to_datetime(df[\"timestamp\"], unit=\"ms\")\n",
      "C:\\Users\\92476\\AppData\\Local\\Temp\\ipykernel_18724\\3304868075.py:24: FutureWarning: The behavior of 'to_datetime' with 'unit' when parsing strings is deprecated. In a future version, strings will be parsed as datetime strings, matching the behavior without a 'unit'. To retain the old behavior, explicitly cast ints or floats to numeric type before calling to_datetime.\n",
      "  df[\"timestamp\"] = pd.to_datetime(df[\"timestamp\"], unit=\"ms\")\n",
      "C:\\Users\\92476\\AppData\\Local\\Temp\\ipykernel_18724\\3304868075.py:24: FutureWarning: The behavior of 'to_datetime' with 'unit' when parsing strings is deprecated. In a future version, strings will be parsed as datetime strings, matching the behavior without a 'unit'. To retain the old behavior, explicitly cast ints or floats to numeric type before calling to_datetime.\n",
      "  df[\"timestamp\"] = pd.to_datetime(df[\"timestamp\"], unit=\"ms\")\n",
      "C:\\Users\\92476\\AppData\\Local\\Temp\\ipykernel_18724\\3304868075.py:24: FutureWarning: The behavior of 'to_datetime' with 'unit' when parsing strings is deprecated. In a future version, strings will be parsed as datetime strings, matching the behavior without a 'unit'. To retain the old behavior, explicitly cast ints or floats to numeric type before calling to_datetime.\n",
      "  df[\"timestamp\"] = pd.to_datetime(df[\"timestamp\"], unit=\"ms\")\n",
      "C:\\Users\\92476\\AppData\\Local\\Temp\\ipykernel_18724\\3304868075.py:24: FutureWarning: The behavior of 'to_datetime' with 'unit' when parsing strings is deprecated. In a future version, strings will be parsed as datetime strings, matching the behavior without a 'unit'. To retain the old behavior, explicitly cast ints or floats to numeric type before calling to_datetime.\n",
      "  df[\"timestamp\"] = pd.to_datetime(df[\"timestamp\"], unit=\"ms\")\n",
      "C:\\Users\\92476\\AppData\\Local\\Temp\\ipykernel_18724\\3304868075.py:24: FutureWarning: The behavior of 'to_datetime' with 'unit' when parsing strings is deprecated. In a future version, strings will be parsed as datetime strings, matching the behavior without a 'unit'. To retain the old behavior, explicitly cast ints or floats to numeric type before calling to_datetime.\n",
      "  df[\"timestamp\"] = pd.to_datetime(df[\"timestamp\"], unit=\"ms\")\n",
      "C:\\Users\\92476\\AppData\\Local\\Temp\\ipykernel_18724\\3304868075.py:24: FutureWarning: The behavior of 'to_datetime' with 'unit' when parsing strings is deprecated. In a future version, strings will be parsed as datetime strings, matching the behavior without a 'unit'. To retain the old behavior, explicitly cast ints or floats to numeric type before calling to_datetime.\n",
      "  df[\"timestamp\"] = pd.to_datetime(df[\"timestamp\"], unit=\"ms\")\n"
     ]
    },
    {
     "name": "stdout",
     "output_type": "stream",
     "text": [
      "\n",
      "📈 最优交易对权重分配:\n",
      "BTC-USDT: -1.0000\n",
      "ETH-USDT: 1.0000\n",
      "SOL-USDT: 0.8530\n",
      "BNB-USDT: -1.0000\n",
      "XRP-USDT: -1.0000\n",
      "ADA-USDT: -0.8530\n",
      "DOGE-USDT: 1.0000\n",
      "DOT-USDT: 1.0000\n"
     ]
    },
    {
     "name": "stderr",
     "output_type": "stream",
     "text": [
      "C:\\Users\\92476\\AppData\\Local\\Temp\\ipykernel_18724\\3304868075.py:176: DeprecationWarning: Conversion of an array with ndim > 0 to a scalar is deprecated, and will error in future. Ensure you extract a single element from your array before performing this operation. (Deprecated NumPy 1.25.)\n",
      "  actual_portfolio_return1.append(float(test_data.T @ W1[-1].value))\n",
      "C:\\Users\\92476\\AppData\\Local\\Temp\\ipykernel_18724\\3304868075.py:177: DeprecationWarning: Conversion of an array with ndim > 0 to a scalar is deprecated, and will error in future. Ensure you extract a single element from your array before performing this operation. (Deprecated NumPy 1.25.)\n",
      "  actual_portfolio_return2.append(float(test_data.T @ W2[-1].value))\n",
      " 90%|█████████ | 9/10 [01:32<00:10, 10.39s/it]"
     ]
    },
    {
     "name": "stdout",
     "output_type": "stream",
     "text": [
      "\n",
      "📈 最优交易对权重分配:\n",
      "BTC-USDT: -1.0000\n",
      "ETH-USDT: 1.0000\n",
      "SOL-USDT: 1.0000\n",
      "BNB-USDT: -0.5859\n",
      "XRP-USDT: -1.0000\n",
      "ADA-USDT: 0.5859\n",
      "DOGE-USDT: 1.0000\n",
      "DOT-USDT: -1.0000\n"
     ]
    },
    {
     "name": "stderr",
     "output_type": "stream",
     "text": [
      "C:\\Users\\92476\\AppData\\Local\\Temp\\ipykernel_18724\\3304868075.py:24: FutureWarning: The behavior of 'to_datetime' with 'unit' when parsing strings is deprecated. In a future version, strings will be parsed as datetime strings, matching the behavior without a 'unit'. To retain the old behavior, explicitly cast ints or floats to numeric type before calling to_datetime.\n",
      "  df[\"timestamp\"] = pd.to_datetime(df[\"timestamp\"], unit=\"ms\")\n",
      "C:\\Users\\92476\\AppData\\Local\\Temp\\ipykernel_18724\\3304868075.py:24: FutureWarning: The behavior of 'to_datetime' with 'unit' when parsing strings is deprecated. In a future version, strings will be parsed as datetime strings, matching the behavior without a 'unit'. To retain the old behavior, explicitly cast ints or floats to numeric type before calling to_datetime.\n",
      "  df[\"timestamp\"] = pd.to_datetime(df[\"timestamp\"], unit=\"ms\")\n",
      "C:\\Users\\92476\\AppData\\Local\\Temp\\ipykernel_18724\\3304868075.py:24: FutureWarning: The behavior of 'to_datetime' with 'unit' when parsing strings is deprecated. In a future version, strings will be parsed as datetime strings, matching the behavior without a 'unit'. To retain the old behavior, explicitly cast ints or floats to numeric type before calling to_datetime.\n",
      "  df[\"timestamp\"] = pd.to_datetime(df[\"timestamp\"], unit=\"ms\")\n",
      "C:\\Users\\92476\\AppData\\Local\\Temp\\ipykernel_18724\\3304868075.py:24: FutureWarning: The behavior of 'to_datetime' with 'unit' when parsing strings is deprecated. In a future version, strings will be parsed as datetime strings, matching the behavior without a 'unit'. To retain the old behavior, explicitly cast ints or floats to numeric type before calling to_datetime.\n",
      "  df[\"timestamp\"] = pd.to_datetime(df[\"timestamp\"], unit=\"ms\")\n",
      "C:\\Users\\92476\\AppData\\Local\\Temp\\ipykernel_18724\\3304868075.py:24: FutureWarning: The behavior of 'to_datetime' with 'unit' when parsing strings is deprecated. In a future version, strings will be parsed as datetime strings, matching the behavior without a 'unit'. To retain the old behavior, explicitly cast ints or floats to numeric type before calling to_datetime.\n",
      "  df[\"timestamp\"] = pd.to_datetime(df[\"timestamp\"], unit=\"ms\")\n",
      "C:\\Users\\92476\\AppData\\Local\\Temp\\ipykernel_18724\\3304868075.py:24: FutureWarning: The behavior of 'to_datetime' with 'unit' when parsing strings is deprecated. In a future version, strings will be parsed as datetime strings, matching the behavior without a 'unit'. To retain the old behavior, explicitly cast ints or floats to numeric type before calling to_datetime.\n",
      "  df[\"timestamp\"] = pd.to_datetime(df[\"timestamp\"], unit=\"ms\")\n",
      "C:\\Users\\92476\\AppData\\Local\\Temp\\ipykernel_18724\\3304868075.py:24: FutureWarning: The behavior of 'to_datetime' with 'unit' when parsing strings is deprecated. In a future version, strings will be parsed as datetime strings, matching the behavior without a 'unit'. To retain the old behavior, explicitly cast ints or floats to numeric type before calling to_datetime.\n",
      "  df[\"timestamp\"] = pd.to_datetime(df[\"timestamp\"], unit=\"ms\")\n",
      "C:\\Users\\92476\\AppData\\Local\\Temp\\ipykernel_18724\\3304868075.py:24: FutureWarning: The behavior of 'to_datetime' with 'unit' when parsing strings is deprecated. In a future version, strings will be parsed as datetime strings, matching the behavior without a 'unit'. To retain the old behavior, explicitly cast ints or floats to numeric type before calling to_datetime.\n",
      "  df[\"timestamp\"] = pd.to_datetime(df[\"timestamp\"], unit=\"ms\")\n"
     ]
    },
    {
     "name": "stdout",
     "output_type": "stream",
     "text": [
      "\n",
      "📈 最优交易对权重分配:\n",
      "BTC-USDT: -1.0000\n",
      "ETH-USDT: 1.0000\n",
      "SOL-USDT: 0.8508\n",
      "BNB-USDT: -1.0000\n",
      "XRP-USDT: -1.0000\n",
      "ADA-USDT: -0.8508\n",
      "DOGE-USDT: 1.0000\n",
      "DOT-USDT: 1.0000\n"
     ]
    },
    {
     "name": "stderr",
     "output_type": "stream",
     "text": [
      "C:\\Users\\92476\\AppData\\Local\\Temp\\ipykernel_18724\\3304868075.py:176: DeprecationWarning: Conversion of an array with ndim > 0 to a scalar is deprecated, and will error in future. Ensure you extract a single element from your array before performing this operation. (Deprecated NumPy 1.25.)\n",
      "  actual_portfolio_return1.append(float(test_data.T @ W1[-1].value))\n",
      "C:\\Users\\92476\\AppData\\Local\\Temp\\ipykernel_18724\\3304868075.py:177: DeprecationWarning: Conversion of an array with ndim > 0 to a scalar is deprecated, and will error in future. Ensure you extract a single element from your array before performing this operation. (Deprecated NumPy 1.25.)\n",
      "  actual_portfolio_return2.append(float(test_data.T @ W2[-1].value))\n",
      "100%|██████████| 10/10 [01:42<00:00, 10.30s/it]"
     ]
    },
    {
     "name": "stdout",
     "output_type": "stream",
     "text": [
      "\n",
      "📈 最优交易对权重分配:\n",
      "BTC-USDT: 0.8643\n",
      "ETH-USDT: -1.0000\n",
      "SOL-USDT: 1.0000\n",
      "BNB-USDT: -1.0000\n",
      "XRP-USDT: -1.0000\n",
      "ADA-USDT: -0.8643\n",
      "DOGE-USDT: 1.0000\n",
      "DOT-USDT: 1.0000\n"
     ]
    },
    {
     "name": "stderr",
     "output_type": "stream",
     "text": [
      "\n"
     ]
    }
   ],
   "source": [
    "import requests\n",
    "import pandas as pd\n",
    "import numpy as np\n",
    "import cvxpy as cp\n",
    "import torch\n",
    "import torch.nn as nn\n",
    "import torch.optim as optim\n",
    "from sklearn.preprocessing import MinMaxScaler\n",
    "from tqdm import tqdm\n",
    "\n",
    "# OKX API 端点\n",
    "BASE_URL = \"https://www.okx.com/api/v5\"\n",
    "\n",
    "def get_okx_klines(instId=\"ETH-USDT\", bar=\"1D\", limit=101):\n",
    "    url = f\"{BASE_URL}/market/candles\"\n",
    "    params = {\"instId\": instId, \"bar\": bar, \"limit\": limit}\n",
    "    response = requests.get(url, params=params)\n",
    "    data = response.json()\n",
    "\n",
    "    if \"data\" in data:\n",
    "        df = pd.DataFrame(data[\"data\"], columns=[\n",
    "            \"timestamp\", \"open\", \"high\", \"low\", \"close\", \"volume\", \"volCcy\", \"vol\", \"trades\"\n",
    "        ])\n",
    "        df[\"timestamp\"] = pd.to_datetime(df[\"timestamp\"], unit=\"ms\")\n",
    "        df.set_index(\"timestamp\", inplace=True)\n",
    "        df = df.astype(float)\n",
    "        return df\n",
    "    else:\n",
    "        print(\"❌ 获取数据失败:\", data)\n",
    "        return None\n",
    "\n",
    "# 交易对列表\n",
    "symbols = [\"BTC-USDT\", \"ETH-USDT\", \"SOL-USDT\", \"BNB-USDT\", \"XRP-USDT\", \"ADA-USDT\", \"DOGE-USDT\", \"DOT-USDT\"]\n",
    "data_dict = {}\n",
    "W1 = []\n",
    "W2 = []\n",
    "actual_portfolio_return1 = []\n",
    "actual_portfolio_return2 = []\n",
    "\n",
    "for kkk in tqdm(range(10)):\n",
    "        # 获取所有交易对数据\n",
    "    for symbol in symbols:\n",
    "        df = get_okx_klines(symbol, \"1D\", 101)\n",
    "        if df is not None:\n",
    "            data_dict[symbol] = df[\"close\"]\n",
    "    \n",
    "    # 组合成 DataFrame\n",
    "    market_data = pd.DataFrame(data_dict)\n",
    "    market_data.dropna(inplace=True)\n",
    "    returns = market_data.pct_change().dropna()\n",
    "    train_data = returns.iloc[:-1]  # 前 100 天的收益数据\n",
    "    test_data = returns.iloc[-1:]  # 仅最后一天的数据\n",
    "    test_data = test_data.to_numpy().reshape(-1, 1)\n",
    "    \n",
    "    # **修复 `reshape` 错误**\n",
    "    expected_returns = np.mean(train_data, axis=0).to_numpy().reshape(-1, 1)  # **转换为 NumPy**\n",
    "    cov_matrix = np.cov(train_data.T) + 1e-6 * np.eye(len(symbols))\n",
    "    \n",
    "    # 定义优化变量（资产权重）\n",
    "    W = cp.Variable((len(symbols), 1))  # 确保是列向量\n",
    "    \n",
    "    # 目标函数：最大化收益 - 风险\n",
    "    risk_aversion = 0.5\n",
    "    objective = cp.Maximize(cp.matmul(expected_returns.T, W) - risk_aversion * cp.quad_form(W, cov_matrix))\n",
    "    \n",
    "    # 约束条件\n",
    "    constraints = [\n",
    "        cp.sum(W) == 0,\n",
    "        W >= -1,\n",
    "        W <= 1,\n",
    "    ]\n",
    "    \n",
    "    # 求解优化问题\n",
    "    problem = cp.Problem(objective, constraints)\n",
    "    problem.solve(solver=cp.SCS)\n",
    "    \n",
    "    # 输出优化结果\n",
    "    if problem.status not in [\"infeasible\", \"unbounded\"]:\n",
    "        print(\"\\n📈 最优交易对权重分配:\")\n",
    "        for i, symbol in enumerate(symbols):\n",
    "            print(f\"{symbol}: {W.value[i][0]:.4f}\")\n",
    "    else:\n",
    "        print(\"❌ 优化问题无解\")\n",
    "    \n",
    "    W1.append(W)\n",
    "    \n",
    "    # **🚀 1. 机器学习预测收益（优化 LSTM）**\n",
    "    class LSTMModel(nn.Module):\n",
    "        def __init__(self, input_size=1, hidden_size=50, num_layers=2, output_size=1):\n",
    "            super(LSTMModel, self).__init__()\n",
    "            self.hidden_size = hidden_size\n",
    "            self.num_layers = num_layers\n",
    "            self.lstm = nn.LSTM(input_size, hidden_size, num_layers, batch_first=True)\n",
    "            self.fc = nn.Linear(hidden_size, output_size)\n",
    "    \n",
    "        def forward(self, x):\n",
    "            h0 = torch.zeros(self.num_layers, x.size(0), self.hidden_size).to(x.device)\n",
    "            c0 = torch.zeros(self.num_layers, x.size(0), self.hidden_size).to(x.device)\n",
    "            out, _ = self.lstm(x, (h0, c0))\n",
    "            return self.fc(out[:, -1, :])\n",
    "    \n",
    "    def predict_lstm(series):\n",
    "        scaler = MinMaxScaler(feature_range=(-1, 1))\n",
    "        scaled_data = scaler.fit_transform(series.values.reshape(-1, 1))\n",
    "    \n",
    "        seq_length = 50 \n",
    "        X, y = [], []\n",
    "        for i in range(len(scaled_data) - seq_length - 1):\n",
    "            X.append(scaled_data[i:i + seq_length])\n",
    "            y.append(scaled_data[i + seq_length])\n",
    "    \n",
    "        X, y = np.array(X), np.array(y)\n",
    "        X = X.reshape(X.shape[0], X.shape[1], 1)  # **确保 LSTM 输入形状正确**\n",
    "        X = torch.tensor(X, dtype=torch.float32)\n",
    "        y = torch.tensor(y, dtype=torch.float32).view(-1, 1)  # **y 也要 reshape**\n",
    "    \n",
    "        # 80% 训练，20% 测试\n",
    "        train_size = int(len(X) * 0.8)\n",
    "        X_train, X_test = X[:train_size], X[train_size:]\n",
    "        y_train, y_test = y[:train_size], y[train_size:]\n",
    "    \n",
    "        model = LSTMModel()\n",
    "        criterion = nn.MSELoss()\n",
    "        optimizer = optim.Adam(model.parameters(), lr=0.01)\n",
    "        \n",
    "        best_loss = float(\"inf\")\n",
    "        best_model_state = None\n",
    "    \n",
    "        for epoch in range(100):\n",
    "            model.train()\n",
    "            optimizer.zero_grad()\n",
    "            outputs = model(X_train)  # **确保输入是 3D**\n",
    "            loss = criterion(outputs, y_train)\n",
    "            loss.backward()\n",
    "            optimizer.step()\n",
    "    \n",
    "            if loss.item() < best_loss:\n",
    "                best_loss = loss.item()\n",
    "                best_model_state = model.state_dict().copy()\n",
    "    \n",
    "        model.load_state_dict(best_model_state)\n",
    "    \n",
    "        # 预测下一步\n",
    "        with torch.no_grad():\n",
    "            X_pred = torch.tensor(scaled_data[-seq_length:].reshape(1, seq_length, 1), dtype=torch.float32)\n",
    "            future_pred = model(X_pred).detach().numpy()\n",
    "    \n",
    "        return scaler.inverse_transform(future_pred)[0][0]\n",
    "    \n",
    "    expected_returns = np.mean(train_data, axis=0).to_numpy().reshape(-1, 1)  # **转换为 NumPy**\n",
    "    cov_matrix = np.cov(train_data.T) + 1e-6 * np.eye(len(symbols))\n",
    "    predicted_returns = np.array([predict_lstm(train_data[symbol]) for symbol in symbols]).reshape(-1, 1)\n",
    "    \n",
    "    \n",
    "    # **🚀 3. 传统均值-方差优化**\n",
    "    W = cp.Variable((len(symbols), 1))\n",
    "    risk_aversion = 1\n",
    "    \n",
    "    objective = cp.Maximize(cp.matmul((0.8*expected_returns + 0.2*predicted_returns).T, W) - risk_aversion * cp.quad_form(W, cov_matrix))\n",
    "    constraints = [cp.sum(W) == 0, W >= -1, W <= 1]\n",
    "    \n",
    "    problem = cp.Problem(objective, constraints)\n",
    "    problem.solve(solver=cp.SCS)\n",
    "    \n",
    "    # **🚀 6. 输出优化结果**\n",
    "    \n",
    "    # 输出优化结果\n",
    "    if problem.status not in [\"infeasible\", \"unbounded\"]:\n",
    "        print(\"\\n📈 最优交易对权重分配:\")\n",
    "        for i, symbol in enumerate(symbols):\n",
    "            print(f\"{symbol}: {W.value[i][0]:.4f}\")\n",
    "    else:\n",
    "        print(\"❌ 优化问题无解\")\n",
    "    \n",
    "    W2.append(W) \n",
    "    actual_portfolio_return1.append(float(test_data.T @ W1[-1].value))\n",
    "    actual_portfolio_return2.append(float(test_data.T @ W2[-1].value))\n",
    "    "
   ]
  },
  {
   "cell_type": "code",
   "execution_count": 58,
   "id": "c4a92191-5649-4fdb-a9fd-267194891400",
   "metadata": {},
   "outputs": [
    {
     "data": {
      "image/png": "[encoded data removed]",
      "text/plain": [
       "<Figure size 1000x500 with 1 Axes>"
      ]
     },
     "metadata": {},
     "output_type": "display_data"
    }
   ],
   "source": [
    "import matplotlib.pyplot as plt\n",
    "\n",
    "# 假设 actual_portfolio_return1 和 actual_portfolio_return2 已经计算好\n",
    "plt.figure(figsize=(10, 5))\n",
    "\n",
    "# 绘制实际收益曲线\n",
    "plt.plot(actual_portfolio_return1, label=\"Return without LSTM\", marker='o', linestyle='-')\n",
    "plt.plot(actual_portfolio_return2, label=\"Return with LSTM\", marker='s', linestyle='--')\n",
    "\n",
    "# 添加标题和标签\n",
    "plt.xlabel(\"Time Step\")\n",
    "plt.ylabel(\"Portfolio Return\")\n",
    "plt.title(\"Actual Portfolio Returns Over Time\")\n",
    "plt.legend()\n",
    "plt.grid(True, linestyle=\"--\", alpha=0.7)\n",
    "\n",
    "# 显示图表\n",
    "plt.show()\n"
   ]
  },
  {
   "cell_type": "code",
   "execution_count": 47,
   "id": "16b855e7-fda9-486f-950b-d69239d4c38b",
   "metadata": {},
   "outputs": [
    {
     "data": {
      "text/plain": [
       "[-0.0006447191248090955,\n",
       " -0.000622285116908261,\n",
       " -0.0006156035281524586,\n",
       " -0.0005363461102101119,\n",
       " -0.0004911176552872265,\n",
       " -0.0003977921931047901,\n",
       " -0.0006127543440945793,\n",
       " -0.0005604219585027548,\n",
       " -0.0005912623932183281,\n",
       " -0.000561143999375624]"
      ]
     },
     "execution_count": 47,
     "metadata": {},
     "output_type": "execute_result"
    }
   ],
   "source": [
    "actual_portfolio_return1"
   ]
  },
  {
   "cell_type": "code",
   "execution_count": 59,
   "id": "c2e83509-51d7-4a0e-af44-bec119977780",
   "metadata": {},
   "outputs": [
    {
     "data": {
      "text/plain": [
       "array([[-1.00000361],\n",
       "       [ 0.99999681],\n",
       "       [ 0.8507805 ],\n",
       "       [-1.00000744],\n",
       "       [-0.99999797],\n",
       "       [-0.85076493],\n",
       "       [ 0.99999838],\n",
       "       [ 0.99999828]])"
      ]
     },
     "execution_count": 59,
     "metadata": {},
     "output_type": "execute_result"
    }
   ],
   "source": [
    "W1[-1].value"
   ]
  },
  {
   "cell_type": "code",
   "execution_count": 60,
   "id": "e8f628fd-a74a-4bc1-9936-2e1fa6e85bfc",
   "metadata": {},
   "outputs": [
    {
     "data": {
      "text/plain": [
       "array([[ 0.86429004],\n",
       "       [-0.99999845],\n",
       "       [ 1.00000097],\n",
       "       [-0.99999956],\n",
       "       [-0.99999745],\n",
       "       [-0.8642969 ],\n",
       "       [ 1.00000129],\n",
       "       [ 1.00000005]])"
      ]
     },
     "execution_count": 60,
     "metadata": {},
     "output_type": "execute_result"
    }
   ],
   "source": [
    "W2[-1].value"
   ]
  },
  {
   "cell_type": "code",
   "execution_count": null,
   "id": "893abcc3-cb32-4515-ae38-d4183be2071f",
   "metadata": {},
   "outputs": [],
   "source": []
  }
 ],
 "metadata": {
  "kernelspec": {
   "display_name": "Python 3 (ipykernel)",
   "language": "python",
   "name": "python3"
  },
  "language_info": {
   "codemirror_mode": {
    "name": "ipython",
    "version": 3
   },
   "file_extension": ".py",
   "mimetype": "text/x-python",
   "name": "python",
   "nbconvert_exporter": "python",
   "pygments_lexer": "ipython3",
   "version": "3.10.14"
  }
 },
 "nbformat": 4,
 "nbformat_minor": 5
}
